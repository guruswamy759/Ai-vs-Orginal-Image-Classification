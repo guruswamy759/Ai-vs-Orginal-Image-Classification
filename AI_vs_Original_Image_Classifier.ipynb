{
 "cells": [
  {
   "cell_type": "markdown",
   "id": "b0733f01",
   "metadata": {},
   "source": [
    "# AI vs Original Image Classification Project"
   ]
  },
  {
   "cell_type": "code",
   "execution_count": null,
   "id": "ab452e51",
   "metadata": {},
   "outputs": [],
   "source": [
    "# Step 1: Import required libraries\n",
    "import os\n",
    "import pandas as pd\n",
    "import cv2\n",
    "import numpy as np\n",
    "import matplotlib.pyplot as plt\n",
    "from sklearn.model_selection import train_test_split\n",
    "from sklearn.preprocessing import LabelEncoder\n",
    "from tensorflow.keras.utils import to_categorical\n",
    "from tensorflow.keras.models import Sequential\n",
    "from tensorflow.keras.layers import Conv2D, MaxPooling2D, Flatten, Dense, Dropout\n"
   ]
  },
  {
   "cell_type": "code",
   "execution_count": null,
   "id": "81ab8033",
   "metadata": {},
   "outputs": [],
   "source": [
    "# Step 2: Define paths\n",
    "base_path = \"dataset\"  # path where ai_generated and original folders are\n",
    "categories = [\"ai_generated\", \"original\"]\n"
   ]
  },
  {
   "cell_type": "code",
   "execution_count": null,
   "id": "3ebd9952",
   "metadata": {},
   "outputs": [],
   "source": [
    "# Step 3: Create CSV with image paths and labels\n",
    "data = []\n",
    "for category in categories:\n",
    "    folder_path = os.path.join(base_path, category)\n",
    "    for img_name in os.listdir(folder_path):\n",
    "        img_path = os.path.join(folder_path, img_name)\n",
    "        data.append([img_path, category])\n",
    "\n",
    "df = pd.DataFrame(data, columns=[\"image_path\", \"label\"])\n",
    "df.to_csv(\"image_labels.csv\", index=False)\n",
    "print(\"CSV created with image paths and labels.\")\n"
   ]
  },
  {
   "cell_type": "code",
   "execution_count": null,
   "id": "c4703ce4",
   "metadata": {},
   "outputs": [],
   "source": [
    "# Step 4: Load data and preprocess\n",
    "IMG_SIZE = 128\n",
    "images = []\n",
    "labels = []\n",
    "\n",
    "for index, row in df.iterrows():\n",
    "    img = cv2.imread(row[\"image_path\"])\n",
    "    if img is not None:\n",
    "        img = cv2.resize(img, (IMG_SIZE, IMG_SIZE))\n",
    "        images.append(img)\n",
    "        labels.append(row[\"label\"])\n",
    "\n",
    "X = np.array(images) / 255.0\n",
    "le = LabelEncoder()\n",
    "y = le.fit_transform(labels)\n",
    "y = to_categorical(y)\n"
   ]
  },
  {
   "cell_type": "code",
   "execution_count": null,
   "id": "eb8cfdb1",
   "metadata": {},
   "outputs": [],
   "source": [
    "# Step 5: Split data\n",
    "X_train, X_test, y_train, y_test = train_test_split(X, y, test_size=0.2, random_state=42)\n"
   ]
  },
  {
   "cell_type": "code",
   "execution_count": null,
   "id": "74f5cbac",
   "metadata": {},
   "outputs": [],
   "source": [
    "# Step 6: Build CNN model\n",
    "model = Sequential([\n",
    "    Conv2D(32, (3, 3), activation='relu', input_shape=(IMG_SIZE, IMG_SIZE, 3)),\n",
    "    MaxPooling2D(2, 2),\n",
    "    Conv2D(64, (3, 3), activation='relu'),\n",
    "    MaxPooling2D(2, 2),\n",
    "    Flatten(),\n",
    "    Dense(128, activation='relu'),\n",
    "    Dropout(0.5),\n",
    "    Dense(2, activation='softmax')\n",
    "])\n",
    "\n",
    "model.compile(optimizer='adam', loss='categorical_crossentropy', metrics=['accuracy'])\n",
    "model.summary()\n"
   ]
  },
  {
   "cell_type": "code",
   "execution_count": null,
   "id": "b3716c9d",
   "metadata": {},
   "outputs": [],
   "source": [
    "# Step 7: Train model\n",
    "history = model.fit(X_train, y_train, epochs=10, validation_data=(X_test, y_test))\n"
   ]
  },
  {
   "cell_type": "code",
   "execution_count": null,
   "id": "096d1118",
   "metadata": {},
   "outputs": [],
   "source": [
    "# Step 8: Evaluate model\n",
    "test_loss, test_acc = model.evaluate(X_test, y_test)\n",
    "print(f\"Test accuracy: {test_acc:.2f}\")\n"
   ]
  },
  {
   "cell_type": "code",
   "execution_count": null,
   "id": "7a6eeb7d",
   "metadata": {},
   "outputs": [],
   "source": [
    "# Step 9: Save the model\n",
    "model.save(\"ai_vs_original_classifier.h5\")\n"
   ]
  }
 ],
 "metadata": {},
 "nbformat": 4,
 "nbformat_minor": 5
}
